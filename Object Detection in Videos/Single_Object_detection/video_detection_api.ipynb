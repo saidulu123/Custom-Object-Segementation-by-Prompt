{
 "cells": [
  {
   "cell_type": "code",
   "execution_count": 2,
   "metadata": {},
   "outputs": [],
   "source": [
    "from inference_sdk import InferenceHTTPClient"
   ]
  },
  {
   "cell_type": "code",
   "execution_count": 3,
   "metadata": {},
   "outputs": [],
   "source": [
    "# Replace ROBOFLOW_API_KEY with your Roboflow API Key\n",
    "CLIENT = InferenceHTTPClient(\n",
    "    api_url=\"http://localhost:9001\",\n",
    "    api_key=\"ROBOFLOW_API_KEY\"\n",
    ")"
   ]
  },
  {
   "cell_type": "code",
   "execution_count": 4,
   "metadata": {},
   "outputs": [],
   "source": [
    "for frame_id, frame, prediction in CLIENT.infer_on_stream(\"E:\\\\My projects\\\\Object Detection in Videos\\\\teaser.mov\", model_id=\"soccer-players-5fuqs/1\"):\n",
    "    # frame_id is the number of frame\n",
    "    # frame - np.ndarray with video frame\n",
    "    # prediction - prediction from the model\n",
    "    pass"
   ]
  }
 ],
 "metadata": {
  "kernelspec": {
   "display_name": "global_env_for_all_projects",
   "language": "python",
   "name": "python3"
  },
  "language_info": {
   "codemirror_mode": {
    "name": "ipython",
    "version": 3
   },
   "file_extension": ".py",
   "mimetype": "text/x-python",
   "name": "python",
   "nbconvert_exporter": "python",
   "pygments_lexer": "ipython3",
   "version": "3.11.7"
  }
 },
 "nbformat": 4,
 "nbformat_minor": 2
}
